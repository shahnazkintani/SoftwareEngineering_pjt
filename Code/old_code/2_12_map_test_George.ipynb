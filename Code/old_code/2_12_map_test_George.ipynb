{
 "cells": [
  {
   "cell_type": "code",
   "execution_count": 1,
   "metadata": {},
   "outputs": [
    {
     "name": "stdout",
     "output_type": "stream",
     "text": [
      "Index(['id', 'latitude', 'longitude', 'track_id', 'time'], dtype='object')\n",
      "id             int64\n",
      "latitude     float64\n",
      "longitude    float64\n",
      "track_id       int64\n",
      "time          object\n",
      "dtype: object\n",
      "Map created, save to: map_john.html\n"
     ]
    },
    {
     "name": "stderr",
     "output_type": "stream",
     "text": [
      "C:\\Users\\AyG\\Miniconda3\\lib\\site-packages\\ipykernel_launcher.py:74: FutureWarning: Method .as_matrix will be removed in a future version. Use .values instead.\n"
     ]
    }
   ],
   "source": [
    "'''\n",
    "Change_log:\n",
    "2/11/2019:\n",
    "Put map_test.py and 40_dp_test.csv file under same file and open the map_john.html to see the result.\n",
    "2/12/2019:\n",
    "Now put go_track_trackspoints.csv file under same file and open the map_john.html to see the result; Limit the number of points in for loop can in crease the efficiency.\n",
    "\n",
    "'''\n",
    "# Wabbits needed\n",
    "import folium\n",
    "from folium import plugins\n",
    "import pandas as pd\n",
    "import matplotlib.pyplot as plt\n",
    "import seaborn as sns\n",
    "\n",
    "%matplotlib inline\n",
    "\n",
    "# read data from csv file and map name\n",
    "data_name = pd.read_csv(\"C:\\\\Users\\\\AyG\\\\Desktop\\\\Git\\\\SoftwareEngineering_pjt\\\\data\\\\go_track_trackspoints.csv\")\n",
    "save_name = 'map_john.html'\n",
    "\n",
    "#basic data information\n",
    "print(data_name.columns)\n",
    "print(data_name.dtypes)\n",
    "\n",
    "# use panda to frame data\n",
    "dataframed_data = pd.DataFrame(data_name)\n",
    "\n",
    "#A list of avaliable colors\n",
    "color_set = ['red', 'blue', 'green', 'purple', 'orange', 'darkred',\n",
    "             'lightred', 'beige', 'darkblue', 'darkgreen', 'cadetblue',\n",
    "             'darkpurple', 'pink', 'lightblue', 'lightgreen',\n",
    "             'gray', 'black', 'lightgray']\n",
    "color_code = 0\n",
    "\n",
    "#Map starts here\n",
    "m = folium.Map(location=[-10.93934139, -37.06274211], tiles='Stamen Toner', zoom_start=10)\n",
    "\n",
    "#Color change function\n",
    "def changeColor():\n",
    "\tglobal color_code\n",
    "\tif color_code+1 >= len(color_set):\n",
    "\t\tcolor_code = 0\n",
    "\tcolor_code = color_code + 1\n",
    "\n",
    "#dataframed['id'] = dataframed['id'].astype(object)\n",
    "#print(data.dtypes)\n",
    "\n",
    "#Plot all the data in the csv file MINUS 15000 for efficiency (MARKED FOR DEBUG)\n",
    "for i in range(1,len(dataframed_data)-15000):\n",
    "\t#change color upon change track_id\n",
    "\tif (dataframed_data.iloc[i-1]['track_id'] != dataframed_data.iloc[i]['track_id']):\n",
    "\t\tchangeColor()\n",
    "\t\tfolium.Marker([dataframed_data.iloc[i]['latitude'], dataframed_data.iloc[i]['longitude']], popup = dataframed_data.iloc[i]['time'], icon = folium.Icon(color=color_set[color_code])).add_to(m) \n",
    "\telse:\n",
    "\t\tfolium.Marker([dataframed_data.iloc[i]['latitude'], dataframed_data.iloc[i]['longitude']], popup = dataframed_data.iloc[i]['time'], icon = folium.Icon(color=color_set[color_code])).add_to(m)\n",
    "\n",
    "#save map to current directory\n",
    "print(\"Map created, save to:\", save_name)\n",
    "\n",
    "\n",
    "\n",
    "'''\n",
    "['red', 'blue', 'green', 'purple', 'orange', 'darkred',\n",
    "             'lightred', 'beige', 'darkblue', 'darkgreen', 'cadetblue',\n",
    "             'darkpurple', 'white', 'pink', 'lightblue', 'lightgreen',\n",
    "             'gray', 'black', 'lightgray']\n",
    "\n",
    "DEBUG LOG:\n",
    "\n",
    "1. for loop will ignore very first data point, since it starts from 1.\n",
    "'''\n",
    "# convert to (n, 2) nd-array format for heatmap\n",
    "stationArr = dataframed_data[['latitude', 'longitude']].as_matrix()\n",
    "\n",
    "# plot heatmap\n",
    "m.add_child(plugins.HeatMap(stationArr, radius=15))\n",
    "m.save(save_name)"
   ]
  }
 ],
 "metadata": {
  "kernelspec": {
   "display_name": "Python 3",
   "language": "python",
   "name": "python3"
  },
  "language_info": {
   "codemirror_mode": {
    "name": "ipython",
    "version": 3
   },
   "file_extension": ".py",
   "mimetype": "text/x-python",
   "name": "python",
   "nbconvert_exporter": "python",
   "pygments_lexer": "ipython3",
   "version": "3.6.8"
  }
 },
 "nbformat": 4,
 "nbformat_minor": 2
}
